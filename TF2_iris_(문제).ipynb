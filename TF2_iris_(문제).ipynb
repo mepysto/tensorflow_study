{
  "nbformat": 4,
  "nbformat_minor": 0,
  "metadata": {
    "colab": {
      "name": "TF2-iris (문제)",
      "provenance": [],
      "collapsed_sections": [],
      "include_colab_link": true
    },
    "kernelspec": {
      "name": "python3",
      "display_name": "Python 3"
    }
  },
  "cells": [
    {
      "cell_type": "markdown",
      "metadata": {
        "id": "view-in-github",
        "colab_type": "text"
      },
      "source": [
        "<a href=\"https://colab.research.google.com/github/mepysto/tensorflow_study/blob/main/TF2_iris_(%EB%AC%B8%EC%A0%9C).ipynb\" target=\"_parent\"><img src=\"https://colab.research.google.com/assets/colab-badge.svg\" alt=\"Open In Colab\"/></a>"
      ]
    },
    {
      "cell_type": "code",
      "metadata": {
        "id": "lh6s2utjyi3e"
      },
      "source": [
        "# ======================================================================\n",
        "# There are 5 questions in this test with increasing difficulty from 1-5\n",
        "# Please note that the weight of the grade for the question is relative\n",
        "# to its difficulty. So your Category 1 question will score much less\n",
        "# than your Category 5 question.\n",
        "# ======================================================================\n",
        "#\n",
        "# Basic Datasets question\n",
        "#\n",
        "# For this task you will train a classifier for Iris flowers using the Iris dataset\n",
        "# The final layer in your neural network should look like: tf.keras.layers.Dense(3, activation=tf.nn.softmax)\n",
        "# The input layer will expect data in the shape (4,)\n",
        "# We've given you some starter code for preprocessing the data\n",
        "# You'll need to implement the preprocess function for data.map\n",
        "\n",
        "# =========== 합격 기준 가이드라인 공유 ============= #\n",
        "# val_loss 기준에 맞춰 주시는 것이 훨씬 더 중요 #\n",
        "# val_loss 보다 조금 높아도 상관없음. (언저리까지 OK) #\n",
        "# =================================================== #\n",
        "# 문제명: Category 2 - iris\n",
        "# val_loss: 0.14\n",
        "# val_acc: 0.93\n",
        "# =================================================== #\n",
        "# =================================================== #\n",
        "\n",
        "\n",
        "import tensorflow as tf\n",
        "import tensorflow_datasets as tfds\n",
        "\n",
        "data = tfds.load(\"iris\", split=tfds.Split.TRAIN.subsplit(tfds.percent[:80]))\n",
        "\n",
        "def preprocess(data):\n",
        "    # YOUR CODE HERE\n",
        "    # Should return features and one-hot encoded labels\n",
        "\n",
        "    return x, y\n",
        "\n",
        "def solution_model():\n",
        "    train_dataset = data.map(preprocess).batch(10)\n",
        "    \n",
        "\n",
        "    # YOUR CODE TO TRAIN A MODEL HERE\n",
        "\n",
        "\n",
        "    return model\n",
        "\n",
        "\n",
        "# Note that you'll need to save your model as a .h5 like this\n",
        "# This .h5 will be uploaded to the testing infrastructure\n",
        "# and a score will be returned to you\n",
        "if __name__ == '__main__':\n",
        "    model = solution_model()\n",
        "    model.save(\"TF2-iris.h5\")"
      ],
      "execution_count": null,
      "outputs": []
    }
  ]
}