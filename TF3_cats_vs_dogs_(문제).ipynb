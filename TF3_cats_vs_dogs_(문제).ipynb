{
  "nbformat": 4,
  "nbformat_minor": 0,
  "metadata": {
    "colab": {
      "name": "TF3-cats-vs-dogs (문제)",
      "provenance": [],
      "collapsed_sections": [],
      "include_colab_link": true
    },
    "kernelspec": {
      "name": "python3",
      "display_name": "Python 3"
    },
    "accelerator": "GPU"
  },
  "cells": [
    {
      "cell_type": "markdown",
      "metadata": {
        "id": "view-in-github",
        "colab_type": "text"
      },
      "source": [
        "<a href=\"https://colab.research.google.com/github/mepysto/tensorflow_study/blob/main/TF3_cats_vs_dogs_(%EB%AC%B8%EC%A0%9C).ipynb\" target=\"_parent\"><img src=\"https://colab.research.google.com/assets/colab-badge.svg\" alt=\"Open In Colab\"/></a>"
      ]
    },
    {
      "cell_type": "code",
      "metadata": {
        "id": "jayt55jOdtfX"
      },
      "source": [
        "# ======================================================================\n",
        "# There are 5 questions in this test with increasing difficulty from 1-5\n",
        "# Please note that the weight of the grade for the question is relative\n",
        "# to its difficulty. So your Category 1 question will score much less\n",
        "# than your Category 5 question.\n",
        "# ======================================================================\n",
        "#\n",
        "# Computer Vision with CNNs\n",
        "#\n",
        "# For this exercise you will build a cats v dogs classifier\n",
        "# using the Cats v Dogs dataset from TFDS.\n",
        "# Be sure to use the final layer as shown \n",
        "#     (Dense, 2 neurons, softmax activation)\n",
        "#\n",
        "# The testing infrastructre will resize all images to 224x224 \n",
        "# with 3 bytes of color depth. Make sure your input layer trains\n",
        "# images to that specification, or the tests will fail.\n",
        "#\n",
        "# Make sure your output layer is exactly as specified here, or the \n",
        "# tests will fail.\n",
        "\n",
        "# =========== 합격 기준 가이드라인 공유 ============= #\n",
        "# val_loss 기준에 맞춰 주시는 것이 훨씬 더 중요 #\n",
        "# val_loss 보다 조금 높아도 상관없음. (언저리까지 OK) #\n",
        "# =================================================== #\n",
        "# 문제명: Category 3 - cats vs dogs\n",
        "# val_loss: 0.3158\n",
        "# val_acc: 0.8665\n",
        "# =================================================== #\n",
        "# =================================================== #\n",
        "\n",
        "\n",
        "import tensorflow_datasets as tfds\n",
        "import tensorflow as tf\n",
        "\n",
        "\n",
        "dataset_name = 'cats_vs_dogs'\n",
        "dataset = tfds.load(name=dataset_name, split=tfds.Split.TRAIN)\n",
        "\n",
        "def preprocess(data):\n",
        "    # YOUR CODE HERE\n",
        "\n",
        "    return x, y\n",
        "\n",
        "\n",
        "def solution_model():\n",
        "    train_dataset = dataset.map(preprocess).batch(32)\n",
        "\n",
        "\n",
        "    model = Sequential([\n",
        "                        \n",
        "    \n",
        "        # YOUR CODE HERE, BUT MAKE SURE YOUR LAST LAYER HAS 2 NEURONS ACTIVATED BY SOFTMAX\n",
        "        tf.keras.layers.Dense(2, activation='softmax')\n",
        "    ])\n",
        "\n",
        "    return model\n",
        "\n",
        "\n",
        "# Note that you'll need to save your model as a .h5 like this\n",
        "# This .h5 will be uploaded to the testing infrastructure\n",
        "# and a score will be returned to you\n",
        "if __name__ == '__main__':\n",
        "    model = solution_model()\n",
        "    model.save(\"TF3-cats-vs-dogs.h5\")\n"
      ],
      "execution_count": null,
      "outputs": []
    }
  ]
}